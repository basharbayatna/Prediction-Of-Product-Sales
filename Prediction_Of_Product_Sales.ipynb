{
  "nbformat": 4,
  "nbformat_minor": 0,
  "metadata": {
    "colab": {
      "provenance": [],
      "authorship_tag": "ABX9TyN6gws0hbGDMoB8liePX0f9",
      "include_colab_link": true
    },
    "kernelspec": {
      "name": "python3",
      "display_name": "Python 3"
    },
    "language_info": {
      "name": "python"
    }
  },
  "cells": [
    {
      "cell_type": "markdown",
      "metadata": {
        "id": "view-in-github",
        "colab_type": "text"
      },
      "source": [
        "<a href=\"https://colab.research.google.com/github/basharbayatna/Prediction-Of-Product-Sales/blob/main/Prediction_Of_Product_Sales.ipynb\" target=\"_parent\"><img src=\"https://colab.research.google.com/assets/colab-badge.svg\" alt=\"Open In Colab\"/></a>"
      ]
    },
    {
      "cell_type": "markdown",
      "source": [
        "# Prediction Of Product Sale\n",
        "- Author: Bashar Bayatna\n",
        "## Project Overview\n",
        "\n",
        "## Load and Inspect Data\n",
        "\n",
        "\n"
      ],
      "metadata": {
        "id": "ByEI-RwX5PBR"
      }
    },
    {
      "cell_type": "code",
      "source": [],
      "metadata": {
        "id": "t1_Au6gD6_U8"
      },
      "execution_count": null,
      "outputs": []
    },
    {
      "cell_type": "markdown",
      "source": [
        "## Clean Data\n"
      ],
      "metadata": {
        "id": "rnl2CuHx7ImD"
      }
    },
    {
      "cell_type": "code",
      "source": [],
      "metadata": {
        "id": "gT98WJJp7O-l"
      },
      "execution_count": null,
      "outputs": []
    },
    {
      "cell_type": "markdown",
      "source": [
        "## Exloratory Data Analysis\n"
      ],
      "metadata": {
        "id": "xpLrim7C7PQ1"
      }
    },
    {
      "cell_type": "code",
      "source": [],
      "metadata": {
        "id": "r6wtLHiR7Rk8"
      },
      "execution_count": null,
      "outputs": []
    },
    {
      "cell_type": "markdown",
      "source": [
        "## Feature Inspection\n"
      ],
      "metadata": {
        "id": "TCAr9Pql7Sgd"
      }
    },
    {
      "cell_type": "code",
      "source": [],
      "metadata": {
        "id": "uoUgXuXe7Umx"
      },
      "execution_count": null,
      "outputs": []
    }
  ]
}